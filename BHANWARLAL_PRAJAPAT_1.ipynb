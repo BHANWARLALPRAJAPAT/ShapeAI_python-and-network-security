{
  "nbformat": 4,
  "nbformat_minor": 0,
  "metadata": {
    "colab": {
      "name": "BHANWARLAL PRAJAPAT 1.ipynb",
      "provenance": [],
      "collapsed_sections": []
    },
    "kernelspec": {
      "name": "python3",
      "display_name": "Python 3"
    },
    "language_info": {
      "name": "python"
    }
  },
  "cells": [
    {
      "cell_type": "code",
      "metadata": {
        "colab": {
          "base_uri": "https://localhost:8080/"
        },
        "id": "wcAbPcVaJfJ-",
        "outputId": "ac6c5f6c-7c71-452a-94a7-7a186c330ab1"
      },
      "source": [
        "# project 1\n",
        "\n",
        "import hashlib\n",
        "\n",
        "text = input(\"Enter your text : \")\n",
        "hash_object = hashlib.md5(text.encode())\n",
        "print (\"the hexadecimal equivalent of hash is :\")\n",
        "md5_hash = hash_object.hexdigest()\n",
        "print(md5_hash)\n",
        "\n"
      ],
      "execution_count": 3,
      "outputs": [
        {
          "output_type": "stream",
          "text": [
            "Enter your text : 56\n",
            "the hexadecimal equivalent of hash is :\n",
            "9f61408e3afb633e50cdf1b20de6f466\n"
          ],
          "name": "stdout"
        }
      ]
    }
  ]
}