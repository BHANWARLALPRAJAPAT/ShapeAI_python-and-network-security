{
  "nbformat": 4,
  "nbformat_minor": 0,
  "metadata": {
    "colab": {
      "name": "BHANWARLAL PRAJAPAT 3.ipynb",
      "provenance": [],
      "collapsed_sections": []
    },
    "kernelspec": {
      "name": "python3",
      "display_name": "Python 3"
    },
    "language_info": {
      "name": "python"
    }
  },
  "cells": [
    {
      "cell_type": "code",
      "metadata": {
        "colab": {
          "base_uri": "https://localhost:8080/"
        },
        "id": "JaJdVfC7aRYj",
        "outputId": "3e2cb3fb-e524-40ad-99f0-18873c4714d3"
      },
      "source": [
        "import hashlib\n",
        "\n",
        "text =input(\"Enter text : \")\n",
        "salt = \"abc\"\n",
        "hash_object = hashlib.md5(text.encode())\n",
        "md5_hash = hash_object.hexdigest()\n",
        "hash = hashlib.md5((salt + text).encode()).hexdigest()\n",
        "print (\"the hexadecimal equivalent of hash is :\")\n",
        "print(hash)\n",
        "\n",
        "print (\"\\nthe hexadecimal equivalent of hash with salt is :\")\n",
        "print(md5_hash)\n",
        "\n",
        "hash_object1 = hashlib.md5(md5_hash.encode())\n",
        "md5_hash1 = hash_object1.hexdigest()\n",
        "print (\"\\nthe hexadecimal equivalent of iteretion 1 hash with salt is :\")\n",
        "print(md5_hash1)\n",
        "\n",
        "hash_object2 = hashlib.md5(md5_hash1.encode())\n",
        "md5_hash2 = hash_object2.hexdigest()\n",
        "print (\"\\nthe hexadecimal equivalent of iteretion 2 hash with salt is :\")\n",
        "print(md5_hash2)\n",
        "\n"
      ],
      "execution_count": 4,
      "outputs": [
        {
          "output_type": "stream",
          "text": [
            "Enter text : 2313\n",
            "the hexadecimal equivalent of hash is :\n",
            "818829d366893c53d6538c044336e8a2\n",
            "\n",
            "the hexadecimal equivalent of hash with salt is :\n",
            "f3ac63c91272f19ce97c7397825cc15f\n",
            "\n",
            "the hexadecimal equivalent of iteretion 1 hash with salt is :\n",
            "0a38d6f0738cbc485385dc80d47f7019\n",
            "\n",
            "the hexadecimal equivalent of iteretion 2 hash with salt is :\n",
            "fd6067f7115d0763934a8476b63aa988\n"
          ],
          "name": "stdout"
        }
      ]
    }
  ]
}