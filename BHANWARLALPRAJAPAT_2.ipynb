{
  "nbformat": 4,
  "nbformat_minor": 0,
  "metadata": {
    "colab": {
      "name": "BHANWARLALPRAJAPAT 2.ipynb",
      "provenance": [],
      "collapsed_sections": []
    },
    "kernelspec": {
      "name": "python3",
      "display_name": "Python 3"
    },
    "language_info": {
      "name": "python"
    }
  },
  "cells": [
    {
      "cell_type": "code",
      "metadata": {
        "id": "iU_KEWlCYnhm",
        "colab": {
          "base_uri": "https://localhost:8080/"
        },
        "outputId": "c775aa60-3f32-4cf3-8946-dc6b346c0091"
      },
      "source": [
        "# project 2\n",
        "\n",
        "import hashlib\n",
        "\n",
        "text = input(\"Enter your text : \")\n",
        "hash_object1 = hashlib.md5(text.encode())\n",
        "hash_object2 = hashlib.sha1(text.encode())\n",
        "hash_object3 =hashlib.blake2b(text.encode())\n",
        "print (\"the hexadecimal equivalent of hash is :\")\n",
        "md5_hash = hash_object1.hexdigest()\n",
        "sha1_hash = hash_object2.hexdigest()\n",
        "blake2b_hash = hash_object3.hexdigest()\n",
        "\n",
        "print(md5_hash)\n",
        "print(sha1_hash)\n",
        "print(blake2b_hash)"
      ],
      "execution_count": 1,
      "outputs": [
        {
          "output_type": "stream",
          "text": [
            "Enter your text : hlihyaewhsfkl7t6w3ht sgdl;'sjg;lsdytg \n",
            "the hexadecimal equivalent of hash is :\n",
            "ecc2b51275bdd8bac2bf3dca6c6e7434\n",
            "2070e95134908786fa5a52f4844d7657ccf903f9\n",
            "5af35434b0068ba5d99186bbe8acbfcccad1dbe84694144d0cacb1e517b94cd06cfe9710fe8679040df79db6c006d3e8b5c2e8fa1684bc2a0cb3f9415661f202\n"
          ],
          "name": "stdout"
        }
      ]
    }
  ]
}